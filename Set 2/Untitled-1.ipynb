{
 "cells": [
  {
   "cell_type": "code",
   "execution_count": null,
   "metadata": {},
   "outputs": [],
   "source": [
    "Du = 0.16\n",
    "f= 0.035\n",
    "k = 0.06\n",
    "\n",
    "U = Du*(0.5=0.5=0.5=0.5-4*0.5) -0 + f*(1-0.5) + 0.5\n",
    "print(U)"
   ]
  }
 ],
 "metadata": {
  "kernelspec": {
   "display_name": "base",
   "language": "python",
   "name": "python3"
  },
  "language_info": {
   "name": "python",
   "version": "3.11.4"
  }
 },
 "nbformat": 4,
 "nbformat_minor": 2
}
