{
 "cells": [
  {
   "cell_type": "code",
   "execution_count": null,
   "metadata": {},
   "outputs": [],
   "source": [
    "Du = 0.16\n",
    "f= 0.035\n",
    "k = 0.06\n",
    "\n",
    "U = Du*(0.5=0.5=0.5=0.5-4*0.5) -0 + f*(1-0.5) + 0.5\n",
    "print(U)"
   ]
  }
 ],
 "metadata": {
  "language_info": {
   "name": "python"
  }
 },
 "nbformat": 4,
 "nbformat_minor": 2
}
