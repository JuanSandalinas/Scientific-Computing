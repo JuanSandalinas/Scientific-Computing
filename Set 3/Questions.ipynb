{
 "cells": [
  {
   "cell_type": "code",
   "execution_count": 2,
   "metadata": {},
   "outputs": [],
   "source": [
    "import numpy as Lp\n",
    "from scipy.sparse import diags\n",
    "from scipy.sparse import csr_array\n",
    "from scipy.sparse import linalg\n",
    "import math\n",
    "\n",
    "import matplotlib.pyplot as plt"
   ]
  },
  {
   "cell_type": "markdown",
   "metadata": {},
   "source": [
    "# Pre"
   ]
  },
  {
   "cell_type": "code",
   "execution_count": 47,
   "metadata": {},
   "outputs": [],
   "source": [
    "\n",
    "class SimulationGrid:\n",
    "\n",
    "    def __init__(self, L, _type = 'Square'):\n",
    "        \"\"\"\n",
    "\n",
    "        Creates a simulation grid.\n",
    "\n",
    "        Inputs:\n",
    "\n",
    "            - L: Square size, rectangle shape or circle diameter. Without considering boundaries\n",
    "        \"\"\"\n",
    "        self.L = L\n",
    "        self.initialize(_type)\n",
    "        self.data = [] #For simulations\n",
    "\n",
    "    def initialize(self,  _type):\n",
    "        \"\"\"\n",
    "        Initializes the v vector and M matrix in function of the type of grid\n",
    "        \"\"\"\n",
    "        if _type == 'Square':\n",
    "            self.M_sq = self.m_square()\n",
    "        elif _type == 'Rectangle':\n",
    "            self.M_rc = self.m_rectangle()\n",
    "        elif _type == 'Circle':\n",
    "            self.M_ci = self.m_circle()\n",
    "        else:\n",
    "            print(\"That does not work\")\n",
    "        self.eigenvalues, self.eigenvectors = np.linalg.eig(self.M)\n",
    "        self.eigenfrequencies = np.sqrt(np.abs(self.eigenvalues))\n",
    "\n",
    "    def m_square(self):\n",
    "        \"\"\"\n",
    "        Considers the grid as a square of size N\n",
    "        \"\"\"\n",
    "        n = self.L**2\n",
    "\n",
    "        x_diag = np.ones(n-1)\n",
    "        x_diag[np.arange(1,n) % self.L == 0] = 0\n",
    "        y_diag = np.ones(n- self.L)\n",
    "\n",
    "        d = [y_diag, x_diag, np.full(n,-4), x_diag, y_diag]\n",
    "        return M = diags(d , [-self.L,-1,0,1,self.L]).toarray()\n",
    " \n",
    "        \n",
    "    def m_rectangle(self, m = 2):\n",
    "        \"\"\"\n",
    "        Considers the grid as a rectangle of heigh of N and length 2*N\n",
    "        Inputs:\n",
    "            - m: Scale from L for Y axis\n",
    "        \"\"\"\n",
    "        n = self.L*self.L*m\n",
    "\n",
    "        x_diag = np.ones(n-1)\n",
    "        x_diag[np.arange(1,n) % self.L == 0] = 0\n",
    "\n",
    "        y_diag = np.ones(n - self.L*m)\n",
    "\n",
    "        d = [y_diag, x_diag, np.full(n,-4), x_diag, y_diag]\n",
    "\n",
    "        return M = diags(d , [-self.L*m,-1,0,1,self.L*m]).toarray()\n",
    "\n",
    "        \n",
    "    def m_circle(self):\n",
    "        \"\"\"\n",
    "        Considers the grid as a circle of diameter N\n",
    "        \"\"\"\n",
    "        M = self.square()\n",
    "        center = [self.L/2, self.L/2]\n",
    "        not_circle = np.abs(np.indices(matrix.shape) - center[:, np.newaxis, np.newaxis])\n",
    "\n",
    "        \n",
    "        \n",
    "\n",
    "\n",
    "    \n",
    "    def animation(self,save_animation = False):\n",
    "        \"\"\"\n",
    "\n",
    "        Animates the stepping scheme:\n",
    "\n",
    "        Inputs:\n",
    "\n",
    "            -   method: If using time_dependent or time_independent\n",
    "\n",
    "            -   save_animation: True == it will save the animation, default is False\n",
    "        \"\"\"\n",
    "\n",
    "        fig, ax = plt.subplots()       \n",
    "\n",
    "        C = np.copy(self.data)\n",
    "\n",
    "\n",
    "        C = np.copy(self.A)\n",
    "        \n",
    "\n",
    "        ax.imshow(C, cmap='hot', interpolation='nearest', extent=[0, 1, 0, 1])\n",
    "\n",
    "        ax.set_xlabel('X')  \n",
    "\n",
    "        ax.set_ylabel('Y')  \n",
    "\n",
    "        ax.set_title('Time: 0 s') \n",
    "        \n",
    "\n",
    "        anim = animation.FuncAnimation(fig,self.frame, fargs= (ax,), frames=int(n_steps), interval = 0.000000001)\n",
    "\n",
    "\n",
    "        if save_animation == True:\n",
    "\n",
    "            print(\"Starting \")\n",
    "\n",
    "            anim.save('time_dependent_diffusion_animation.mp4', fps=60)\n",
    "            plt.close()\n",
    "\n",
    "    def frame(self, iteration, ax):\n",
    "\n",
    "        C = self.data[iteration]\n",
    "\n",
    "        ax.clear()\n",
    "\n",
    "        ax.set_title(f'Time dependent(t={np.round(iteration*0.0001*50, 7)}) s')\n",
    "\n",
    "        ax.imshow(C, cmap='hot', interpolation='nearest', extent=[0, 1, 0, 1])\n"
   ]
  },
  {
   "cell_type": "markdown",
   "metadata": {},
   "source": [
    "# Part I"
   ]
  },
  {
   "cell_type": "markdown",
   "metadata": {},
   "source": [
    "## A"
   ]
  },
  {
   "cell_type": "markdown",
   "metadata": {},
   "source": [
    "Done"
   ]
  },
  {
   "cell_type": "markdown",
   "metadata": {},
   "source": [
    "## B"
   ]
  },
  {
   "cell_type": "code",
   "execution_count": 49,
   "metadata": {},
   "outputs": [
    {
     "name": "stdout",
     "output_type": "stream",
     "text": [
      "[[-4.  1.  0.  1.  0.  0.  0.  0.  0.]\n",
      " [ 1. -4.  1.  0.  1.  0.  0.  0.  0.]\n",
      " [ 0.  1. -4.  0.  0.  1.  0.  0.  0.]\n",
      " [ 1.  0.  0. -4.  1.  0.  1.  0.  0.]\n",
      " [ 0.  1.  0.  1. -4.  1.  0.  1.  0.]\n",
      " [ 0.  0.  1.  0.  1. -4.  0.  0.  1.]\n",
      " [ 0.  0.  0.  1.  0.  0. -4.  1.  0.]\n",
      " [ 0.  0.  0.  0.  1.  0.  1. -4.  1.]\n",
      " [ 0.  0.  0.  0.  0.  1.  0.  1. -4.]]\n",
      "[[-4.  1.  0.  0.  0.  0.  1.  0.  0.  0.  0.  0.  0.  0.  0.  0.  0.  0.]\n",
      " [ 1. -4.  1.  0.  0.  0.  0.  1.  0.  0.  0.  0.  0.  0.  0.  0.  0.  0.]\n",
      " [ 0.  1. -4.  0.  0.  0.  0.  0.  1.  0.  0.  0.  0.  0.  0.  0.  0.  0.]\n",
      " [ 0.  0.  0. -4.  1.  0.  0.  0.  0.  1.  0.  0.  0.  0.  0.  0.  0.  0.]\n",
      " [ 0.  0.  0.  1. -4.  1.  0.  0.  0.  0.  1.  0.  0.  0.  0.  0.  0.  0.]\n",
      " [ 0.  0.  0.  0.  1. -4.  0.  0.  0.  0.  0.  1.  0.  0.  0.  0.  0.  0.]\n",
      " [ 1.  0.  0.  0.  0.  0. -4.  1.  0.  0.  0.  0.  1.  0.  0.  0.  0.  0.]\n",
      " [ 0.  1.  0.  0.  0.  0.  1. -4.  1.  0.  0.  0.  0.  1.  0.  0.  0.  0.]\n",
      " [ 0.  0.  1.  0.  0.  0.  0.  1. -4.  0.  0.  0.  0.  0.  1.  0.  0.  0.]\n",
      " [ 0.  0.  0.  1.  0.  0.  0.  0.  0. -4.  1.  0.  0.  0.  0.  1.  0.  0.]\n",
      " [ 0.  0.  0.  0.  1.  0.  0.  0.  0.  1. -4.  1.  0.  0.  0.  0.  1.  0.]\n",
      " [ 0.  0.  0.  0.  0.  1.  0.  0.  0.  0.  1. -4.  0.  0.  0.  0.  0.  1.]\n",
      " [ 0.  0.  0.  0.  0.  0.  1.  0.  0.  0.  0.  0. -4.  1.  0.  0.  0.  0.]\n",
      " [ 0.  0.  0.  0.  0.  0.  0.  1.  0.  0.  0.  0.  1. -4.  1.  0.  0.  0.]\n",
      " [ 0.  0.  0.  0.  0.  0.  0.  0.  1.  0.  0.  0.  0.  1. -4.  0.  0.  0.]\n",
      " [ 0.  0.  0.  0.  0.  0.  0.  0.  0.  1.  0.  0.  0.  0.  0. -4.  1.  0.]\n",
      " [ 0.  0.  0.  0.  0.  0.  0.  0.  0.  0.  1.  0.  0.  0.  0.  1. -4.  1.]\n",
      " [ 0.  0.  0.  0.  0.  0.  0.  0.  0.  0.  0.  1.  0.  0.  0.  0.  1. -4.]]\n"
     ]
    },
    {
     "ename": "IndexError",
     "evalue": "arrays used as indices must be of integer (or boolean) type",
     "output_type": "error",
     "traceback": [
      "\u001b[1;31m---------------------------------------------------------------------------\u001b[0m",
      "\u001b[1;31mIndexError\u001b[0m                                Traceback (most recent call last)",
      "Cell \u001b[1;32mIn[49], line 6\u001b[0m\n\u001b[0;32m      4\u001b[0m rectangle \u001b[38;5;241m=\u001b[39m SimulationGrid(L, _type \u001b[38;5;241m=\u001b[39m \u001b[38;5;124m'\u001b[39m\u001b[38;5;124mRectangle\u001b[39m\u001b[38;5;124m'\u001b[39m)\n\u001b[0;32m      5\u001b[0m \u001b[38;5;28mprint\u001b[39m(rectangle\u001b[38;5;241m.\u001b[39mM)\n\u001b[1;32m----> 6\u001b[0m circle \u001b[38;5;241m=\u001b[39m SimulationGrid(L, _type \u001b[38;5;241m=\u001b[39m \u001b[38;5;124m'\u001b[39m\u001b[38;5;124mCircle\u001b[39m\u001b[38;5;124m'\u001b[39m)\n",
      "Cell \u001b[1;32mIn[47], line 13\u001b[0m, in \u001b[0;36mSimulationGrid.__init__\u001b[1;34m(self, L, _type)\u001b[0m\n\u001b[0;32m      4\u001b[0m \u001b[38;5;250m\u001b[39m\u001b[38;5;124;03m\"\"\"\u001b[39;00m\n\u001b[0;32m      5\u001b[0m \n\u001b[0;32m      6\u001b[0m \u001b[38;5;124;03mCreates a simulation grid.\u001b[39;00m\n\u001b[1;32m   (...)\u001b[0m\n\u001b[0;32m     10\u001b[0m \u001b[38;5;124;03m    - L: Square size, rectangle shape or circle diameter. Without considering boundaries\u001b[39;00m\n\u001b[0;32m     11\u001b[0m \u001b[38;5;124;03m\"\"\"\u001b[39;00m\n\u001b[0;32m     12\u001b[0m \u001b[38;5;28mself\u001b[39m\u001b[38;5;241m.\u001b[39mL \u001b[38;5;241m=\u001b[39m L\n\u001b[1;32m---> 13\u001b[0m \u001b[38;5;28mself\u001b[39m\u001b[38;5;241m.\u001b[39minitialize(_type)\n\u001b[0;32m     14\u001b[0m \u001b[38;5;28mself\u001b[39m\u001b[38;5;241m.\u001b[39mdata \u001b[38;5;241m=\u001b[39m []\n",
      "Cell \u001b[1;32mIn[47], line 25\u001b[0m, in \u001b[0;36mSimulationGrid.initialize\u001b[1;34m(self, _type)\u001b[0m\n\u001b[0;32m     23\u001b[0m     \u001b[38;5;28mself\u001b[39m\u001b[38;5;241m.\u001b[39mm_rectangle()\n\u001b[0;32m     24\u001b[0m \u001b[38;5;28;01melif\u001b[39;00m _type \u001b[38;5;241m==\u001b[39m \u001b[38;5;124m'\u001b[39m\u001b[38;5;124mCircle\u001b[39m\u001b[38;5;124m'\u001b[39m:\n\u001b[1;32m---> 25\u001b[0m     \u001b[38;5;28mself\u001b[39m\u001b[38;5;241m.\u001b[39mm_circle()\n\u001b[0;32m     26\u001b[0m \u001b[38;5;28;01melse\u001b[39;00m:\n\u001b[0;32m     27\u001b[0m     \u001b[38;5;28mprint\u001b[39m(\u001b[38;5;124m\"\u001b[39m\u001b[38;5;124mThat does not work\u001b[39m\u001b[38;5;124m\"\u001b[39m)\n",
      "Cell \u001b[1;32mIn[47], line 66\u001b[0m, in \u001b[0;36mSimulationGrid.m_circle\u001b[1;34m(self)\u001b[0m\n\u001b[0;32m     62\u001b[0m \u001b[38;5;250m\u001b[39m\u001b[38;5;124;03m\"\"\"\u001b[39;00m\n\u001b[0;32m     63\u001b[0m \u001b[38;5;124;03mConsiders the grid as a circle of diameter N\u001b[39;00m\n\u001b[0;32m     64\u001b[0m \u001b[38;5;124;03m\"\"\"\u001b[39;00m\n\u001b[0;32m     65\u001b[0m \u001b[38;5;28mself\u001b[39m\u001b[38;5;241m.\u001b[39mm_rectangle()\n\u001b[1;32m---> 66\u001b[0m \u001b[38;5;28mself\u001b[39m\u001b[38;5;241m.\u001b[39mM[\u001b[38;5;28mself\u001b[39m\u001b[38;5;241m.\u001b[39mM]\n",
      "\u001b[1;31mIndexError\u001b[0m: arrays used as indices must be of integer (or boolean) type"
     ]
    }
   ],
   "source": [
    "L = 3\n",
    "square = SimulationGrid(L, _type = 'Square')\n",
    "print(square.M)\n",
    "rectangle = SimulationGrid(L, _type = 'Rectangle')\n",
    "print(rectangle.M)\n",
    "circle = SimulationGrid(L, _type = 'Circle')"
   ]
  },
  {
   "cell_type": "markdown",
   "metadata": {},
   "source": []
  }
 ],
 "metadata": {
  "kernelspec": {
   "display_name": "base",
   "language": "python",
   "name": "python3"
  },
  "language_info": {
   "codemirror_mode": {
    "name": "ipython",
    "version": 3
   },
   "file_extension": ".py",
   "mimetype": "text/x-python",
   "name": "python",
   "nbconvert_exporter": "python",
   "pygments_lexer": "ipython3",
   "version": "3.11.4"
  }
 },
 "nbformat": 4,
 "nbformat_minor": 2
}
