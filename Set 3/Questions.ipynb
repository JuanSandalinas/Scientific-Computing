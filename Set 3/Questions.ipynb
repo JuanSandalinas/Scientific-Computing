{
 "cells": [
  {
   "cell_type": "code",
   "execution_count": 8,
   "metadata": {},
   "outputs": [],
   "source": [
    "import numpy as np\n",
    "from scipy.sparse import diags\n",
    "from scipy.sparse import csr_array\n",
    "from scipy.sparse import linalg\n",
    "import math\n",
    "\n",
    "import matplotlib.pyplot as plt"
   ]
  },
  {
   "cell_type": "markdown",
   "metadata": {},
   "source": [
    "# Pre"
   ]
  },
  {
   "cell_type": "code",
   "execution_count": 95,
   "metadata": {},
   "outputs": [],
   "source": [
    "\n",
    "class SimulationGrid:\n",
    "\n",
    "    def __init__(self,L,N = None, _type = 'Square', method = 'Fast'):\n",
    "        \"\"\"\n",
    "\n",
    "        Creates a simulation grid.\n",
    "\n",
    "        Inputs:\n",
    "\n",
    "            - L: Square size, rectangle shape or circle diameter. Without considering boundaries\n",
    "            - N: Number od discretization points, default equal to teh size\n",
    "        \"\"\"\n",
    "        self.L = L\n",
    "        if N == None:\n",
    "            self.N = self.L + 1\n",
    "        else:\n",
    "            self.N = N\n",
    "        self.initialize(_type)\n",
    "        self.data = [] #For simulations\n",
    "\n",
    "    def initialize(self,  _type):\n",
    "        \"\"\"\n",
    "        Initializes the v vector and M matrix in function of the type of grid\n",
    "        \"\"\"\n",
    "        if _type == 'Square':\n",
    "            self.M = self.m_square()\n",
    "        elif _type == 'Rectangle':\n",
    "            self.M = self.m_rectangle()\n",
    "        elif _type == 'Circle':\n",
    "            self.M = self.m_circle()\n",
    "        else:\n",
    "            print(\"That does not work\")\n",
    "        self.eigenvalues, self.eigenvectors = np.linalg.eig(self.M)\n",
    "        self.eigenfrequencies = np.sqrt(np.abs(self.eigenvalues))\n",
    "\n",
    "    def m_square(self):\n",
    "        \"\"\"\n",
    "        Considers the grid as a square of size L\n",
    "        \"\"\"\n",
    "     \n",
    "        n = (self.N)**2\n",
    "\n",
    "        x_diag = np.ones(n-1)\n",
    "        x_diag[np.arange(1,n) % self.N == 0] = 0\n",
    "        y_diag = np.ones(n- self.N)\n",
    "\n",
    "        d = [y_diag, x_diag, np.full(n,-4), x_diag, y_diag]\n",
    "        return diags(d , [-self.N,-1,0,1,self.N]).toarray()\n",
    " \n",
    "        \n",
    "    def m_rectangle(self, m = 2):\n",
    "        \"\"\"\n",
    "        Considers the grid as a rectangle of heigh of L and length 2*L\n",
    "        Inputs:\n",
    "            - m: Scale from L for Y axis\n",
    "        \"\"\"\n",
    "      \n",
    "        n = (self.N)*(self.N)*m\n",
    "\n",
    "        x_diag = np.ones(n-1)\n",
    "        x_diag[np.arange(1,n) % self.N == 0] = 0\n",
    "\n",
    "        y_diag = np.ones(n - self.N*m)\n",
    "\n",
    "        d = [y_diag, x_diag, np.full(n,-4), x_diag, y_diag]\n",
    "\n",
    "        return diags(d , [-self.N*m,-1,0,1,self.N*m]).toarray()\n",
    "\n",
    "        \n",
    "    def m_circle(self):\n",
    "        \"\"\"\n",
    "        Considers the grid as a circle of diameter N. For this discretization, if N is par, then the center is ont, if impair it is \n",
    "        \"\"\"\n",
    "       \n",
    "        n = (self.N)**2\n",
    "        M = self.m_square()\n",
    "\n",
    "        center_xy = self.L/2\n",
    "\n",
    "        distances = np.sqrt(np.sum((np.indices((self.N,self.N)) - center_xy)**2, axis = 0)).flatten()\n",
    "        positions = np.where(distances > self.L/2)[0]\n",
    "\n",
    "        M = np.delete(M, positions, axis = 0)\n",
    "        M = np.delete(M, positions, axis = 1)\n",
    "\n",
    "        return M\n",
    "\n",
    "        \n",
    "\n",
    "    \n",
    "    def animation(self,save_animation = False):\n",
    "        \"\"\"\n",
    "\n",
    "        Animates the stepping scheme:\n",
    "\n",
    "        Inputs:\n",
    "\n",
    "            -   method: If using time_dependent or time_independent\n",
    "\n",
    "            -   save_animation: True == it will save the animation, default is False\n",
    "        \"\"\"\n",
    "\n",
    "        fig, ax = plt.subplots()       \n",
    "\n",
    "        C = np.copy(self.data)\n",
    "\n",
    "\n",
    "        C = np.copy(self.A)\n",
    "        \n",
    "\n",
    "        ax.imshow(C, cmap='hot', interpolation='nearest', extent=[0, 1, 0, 1])\n",
    "\n",
    "        ax.set_xlabel('X')  \n",
    "\n",
    "        ax.set_ylabel('Y')  \n",
    "\n",
    "        ax.set_title('Time: 0 s') \n",
    "        \n",
    "        anim = animation.FuncAnimation(fig,self.frame, fargs= (ax,), frames=int(n_steps), interval = 0.000000001)\n",
    "\n",
    "        if save_animation == True:\n",
    "\n",
    "            print(\"Starting \")\n",
    "\n",
    "            anim.save('time_dependent_diffusion_animation.mp4', fps=60)\n",
    "            plt.close()\n",
    "\n",
    "    def frame(self, iteration, ax):\n",
    "\n",
    "        C = self.data[iteration]\n",
    "\n",
    "        ax.clear()\n",
    "\n",
    "        ax.set_title(f'Time dependent(t={np.round(iteration*0.0001*50, 7)}) s')\n",
    "\n",
    "        ax.imshow(C, cmap='hot', interpolation='nearest', extent=[0, 1, 0, 1])\n"
   ]
  },
  {
   "cell_type": "markdown",
   "metadata": {},
   "source": [
    "# Part I"
   ]
  },
  {
   "cell_type": "markdown",
   "metadata": {},
   "source": [
    "## A"
   ]
  },
  {
   "cell_type": "markdown",
   "metadata": {},
   "source": [
    "Done"
   ]
  },
  {
   "cell_type": "markdown",
   "metadata": {},
   "source": [
    "## B"
   ]
  },
  {
   "cell_type": "markdown",
   "metadata": {},
   "source": [
    "## C"
   ]
  },
  {
   "cell_type": "code",
   "execution_count": 96,
   "metadata": {},
   "outputs": [],
   "source": [
    "L = 4\n",
    "\n",
    "square = SimulationGrid(L, _type = 'Square')\n",
    "\n",
    "rectangle = SimulationGrid(L, _type = 'Rectangle')\n",
    "\n",
    "circle = SimulationGrid(L, _type = 'Circle')\n"
   ]
  }
 ],
 "metadata": {
  "kernelspec": {
   "display_name": "base",
   "language": "python",
   "name": "python3"
  },
  "language_info": {
   "codemirror_mode": {
    "name": "ipython",
    "version": 3
   },
   "file_extension": ".py",
   "mimetype": "text/x-python",
   "name": "python",
   "nbconvert_exporter": "python",
   "pygments_lexer": "ipython3",
   "version": "3.11.4"
  }
 },
 "nbformat": 4,
 "nbformat_minor": 2
}
